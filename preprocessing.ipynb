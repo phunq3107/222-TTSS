{
 "cells": [
  {
   "cell_type": "code",
   "execution_count": 9,
   "metadata": {},
   "outputs": [],
   "source": [
    "import cv2\n",
    "import os"
   ]
  },
  {
   "cell_type": "code",
   "execution_count": 10,
   "metadata": {},
   "outputs": [],
   "source": [
    "numOfpeople = 21\n",
    "numOfImages = 19\n",
    "\n",
    "basepath = 'image/'\n",
    "\n",
    "for subFolderName in os.listdir(basepath):\n",
    "    folderPath = subFolderName + '/'\n",
    "    folderPath = os.path.join(basepath, folderPath)\n",
    "    \n",
    "    for imgName in os.listdir(folderPath):\n",
    "        imgPath = os.path.join(folderPath, imgName)\n",
    "        \n",
    "        if os.path.isfile(imgPath):\n",
    "            image = cv2.imread(imgPath)\n",
    "            gray = cv2.cvtColor(image, cv2.COLOR_BGR2GRAY)\n",
    "            # gray.shape (250,250)\n",
    "            inputFile = 'input/'+ subFolderName + '.' + imgName\n",
    "            inputFile = inputFile.replace('.jpg', '.txt')\n",
    "            \n",
    "            with open(inputFile, 'w') as fp:\n",
    "                for r in gray:\n",
    "                    for c in r:\n",
    "                        fp.write(\"%s \" % int(c))\n",
    "                            \n",
    "                    fp.write('\\b\\n')\n"
   ]
  }
 ],
 "metadata": {
  "kernelspec": {
   "display_name": "Python 3",
   "language": "python",
   "name": "python3"
  },
  "language_info": {
   "codemirror_mode": {
    "name": "ipython",
    "version": 3
   },
   "file_extension": ".py",
   "mimetype": "text/x-python",
   "name": "python",
   "nbconvert_exporter": "python",
   "pygments_lexer": "ipython3",
   "version": "3.10.7"
  },
  "orig_nbformat": 4
 },
 "nbformat": 4,
 "nbformat_minor": 2
}
